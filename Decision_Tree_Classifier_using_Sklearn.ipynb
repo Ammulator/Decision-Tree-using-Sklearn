{
  "nbformat": 4,
  "nbformat_minor": 0,
  "metadata": {
    "colab": {
      "name": "Decision Tree Classifier using Sklearn.ipynb",
      "provenance": [],
      "collapsed_sections": [],
      "authorship_tag": "ABX9TyPH5Upi4QJjEmUXt/MXt7UC",
      "include_colab_link": true
    },
    "kernelspec": {
      "name": "python3",
      "display_name": "Python 3"
    }
  },
  "cells": [
    {
      "cell_type": "markdown",
      "metadata": {
        "id": "view-in-github",
        "colab_type": "text"
      },
      "source": [
        "<a href=\"https://colab.research.google.com/github/Ammulator/Decision-Tree-using-Sklearn/blob/main/Decision_Tree_Classifier_using_Sklearn.ipynb\" target=\"_parent\"><img src=\"https://colab.research.google.com/assets/colab-badge.svg\" alt=\"Open In Colab\"/></a>"
      ]
    },
    {
      "cell_type": "markdown",
      "metadata": {
        "id": "veIlAZ2_luA1"
      },
      "source": [
        "**1.Importing Libraries**"
      ]
    },
    {
      "cell_type": "code",
      "metadata": {
        "id": "ExdwRe1NxtcO"
      },
      "source": [
        "import pandas as pd\r\n",
        "from sklearn.tree import DecisionTreeClassifier\r\n",
        "from sklearn.model_selection import train_test_split"
      ],
      "execution_count": 1,
      "outputs": []
    },
    {
      "cell_type": "markdown",
      "metadata": {
        "id": "CtNsywbnmehH"
      },
      "source": [
        "**2.Importing Dataset and select features**"
      ]
    },
    {
      "cell_type": "code",
      "metadata": {
        "id": "jJy5bKxFmcGQ"
      },
      "source": [
        "df=pd.read_csv(\"BankChurners.csv\")\r\n",
        "#Here we are converting the string values to Boolean Values as for Male (M) is true\r\n",
        "#Female(F) is False\r\n",
        "df['Gender']=df['Gender']=='M'\r\n",
        "df['Attrition_Flag']=df['Attrition_Flag']=='Existing Customer'\r\n",
        "X=df[['CLIENTNUM','Attrition_Flag','Customer_Age','Credit_Limit','Total_Trans_Ct','Total_Trans_Amt']].values\r\n",
        "y=df['Gender'].values\r\n",
        "X_train,X_test,y_train,y_test=train_test_split(X,y,test_size=0.2,random_state=0)"
      ],
      "execution_count": 18,
      "outputs": []
    },
    {
      "cell_type": "markdown",
      "metadata": {
        "id": "TxW_Y24Xr_3t"
      },
      "source": [
        "**3. Call the Model and Predict the value**"
      ]
    },
    {
      "cell_type": "code",
      "metadata": {
        "colab": {
          "base_uri": "https://localhost:8080/"
        },
        "id": "HX7DVbEjrzdA",
        "outputId": "b2bbf891-cfad-4cae-c68d-3576fd76b995"
      },
      "source": [
        "#Decision Tree Classifier\r\n",
        "model=DecisionTreeClassifier(random_state=0)\r\n",
        "model.fit(X_train,y_train)\r\n",
        "y_pred=model.predict([[9875264,True,40,4500,45,2221]])\r\n",
        "if y_pred==True:\r\n",
        "  print(\"Prediction of Gender is Male\")\r\n",
        "else:\r\n",
        "  print(\"prediction of Gender is Female\")"
      ],
      "execution_count": 40,
      "outputs": [
        {
          "output_type": "stream",
          "text": [
            "[ True]\n",
            "Prediction of Gender is Male\n"
          ],
          "name": "stdout"
        }
      ]
    }
  ]
}